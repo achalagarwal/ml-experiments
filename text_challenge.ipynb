{
 "cells": [
  {
   "cell_type": "markdown",
   "metadata": {
    "colab_type": "text",
    "id": "view-in-github"
   },
   "source": [
    "<a href=\"https://colab.research.google.com/github/novoic/ml-challenge/blob/master/text_challenge.ipynb\" target=\"_parent\"><img src=\"https://colab.research.google.com/assets/colab-badge.svg\" alt=\"Open In Colab\"/></a>"
   ]
  },
  {
   "cell_type": "markdown",
   "metadata": {
    "colab_type": "text",
    "id": "NOHLZHtggQtk"
   },
   "source": [
    "<a href=\"https://novoic.com\"><img src=\"https://assets.novoic.com/logo_320px.png\" alt=\"Novoic logo\" width=\"160\"/></a>\n",
    "\n",
    "# Novoic ML challenge – text data"
   ]
  },
  {
   "cell_type": "markdown",
   "metadata": {
    "colab_type": "text",
    "id": "zlll6t_8M5fy"
   },
   "source": [
    "## Introduction\n",
    "Welcome to the Novoic ML challenge!\n",
    "\n",
    "This is an open-ended ML challenge to help us identify exceptional researchers and engineers. The guidance below describes an open-source dataset that you can use to demonstrate your research skills, creativity, coding ability, scientific communication or anything else you think is important to the role.\n",
    "\n",
    "Before starting the challenge, go ahead and read our CEO's [Medium post](https://medium.com/@emil_45669/the-doctor-is-ready-to-see-you-tube-videos-716b12367feb) on what we're looking for in our Research Scientists, Research Engineers and ML Interns. We recommend you spend around three hours on this (more or less if you wish), which you do not have to do in one go. Please make use of any resources you like.\n",
    "\n",
    "This is the text version of the challenge. Also available are audio and image versions. You can access all three from [this GitHub repo](https://github.com/novoic/ml-challenge).\n",
    "\n",
    "Best of luck – we're looking forward to seeing what you can do!"
   ]
  },
  {
   "cell_type": "markdown",
   "metadata": {
    "colab_type": "text",
    "id": "GUJZyzMB_2TA"
   },
   "source": [
    "## Prepare the data\n",
    "Copy the dataset to a local directory – this should take a few seconds."
   ]
  },
  {
   "cell_type": "code",
   "execution_count": 2,
   "metadata": {
    "colab": {},
    "colab_type": "code",
    "id": "AaRNBDz4nN1t"
   },
   "outputs": [
    {
     "name": "stdout",
     "output_type": "stream",
     "text": [
      "Copying gs://novoic-ml-challenge-text-data/LICENSE...\n",
      "Copying gs://novoic-ml-challenge-text-data/README.md...                         \n",
      "Copying gs://novoic-ml-challenge-text-data/data.txt...                          \n",
      "- [3 files][468.7 KiB/468.7 KiB]                                                \n",
      "Operation completed over 3 objects/468.7 KiB.                                    \n"
     ]
    }
   ],
   "source": [
    "!mkdir -p data\n",
    "!~/utils/gsutil/gsutil cp -r gs://novoic-ml-challenge-text-data/* ./data"
   ]
  },
  {
   "cell_type": "markdown",
   "metadata": {
    "colab_type": "text",
    "id": "BpJ7NOCXkCKs"
   },
   "source": [
    "## Data description\n",
    "\n",
    "The data comprises 5,574 SMS messages. Each message is labelled as either 'ham' (legitimate) or spam.\n",
    "\n",
    "Each line in `data.txt` corresponds to one message. The first word is the data label (either `ham` or `spam`), followed by a tab (`\\t`) character and then the message."
   ]
  },
  {
   "cell_type": "code",
   "execution_count": 3,
   "metadata": {
    "colab": {},
    "colab_type": "code",
    "id": "muZyXMc8rbAK"
   },
   "outputs": [],
   "source": [
    "with open('data/data.txt', 'r') as f:\n",
    "    msgs = f.read().splitlines()"
   ]
  },
  {
   "cell_type": "code",
   "execution_count": 4,
   "metadata": {
    "colab": {},
    "colab_type": "code",
    "id": "6Ey4KqN1uBqN"
   },
   "outputs": [
    {
     "name": "stdout",
     "output_type": "stream",
     "text": [
      "ham\tI'm gonna be home soon and i don't want to talk about this stuff anymore tonight, k? I've cried enough today.\n",
      "spam\tSIX chances to win CASH! From 100 to 20,000 pounds txt> CSH11 and send to 87575. Cost 150p/day, 6days, 16+ TsandCs apply Reply HL 4 info\n"
     ]
    }
   ],
   "source": [
    "print(msgs[10])\n",
    "print(msgs[11])"
   ]
  },
  {
   "cell_type": "markdown",
   "metadata": {
    "colab_type": "text",
    "id": "UeYkLol_rZoT"
   },
   "source": [
    "\n",
    "For more information about the dataset, see its `README.md`.\n",
    "\n",
    "Directory structure:\n",
    "```\n",
    "data/\n",
    "├── data.txt\n",
    "├── LICENSE\n",
    "└── README.md\n",
    "```\n",
    "\n",
    "\n",
    "\n",
    "\n"
   ]
  },
  {
   "cell_type": "markdown",
   "metadata": {
    "colab_type": "text",
    "id": "K7x5PwDaFDdy"
   },
   "source": [
    "## The challenge\n",
    "This is an open-ended challenge and we want to witness your creativity. Some suggestions:\n",
    "- Data exploration/visualization\n",
    "- Binary classification\n",
    "- Unsupervised clustering\n",
    "- Model explainability\n",
    "\n",
    "You're welcome to explore one or more of these topics, or do something entirely different.\n",
    "\n",
    "Create, iterate on, and validate your work in this notebook, using any packages of your choosing.\n",
    "\n",
    "**You can access a GPU via `Runtime -> Change runtime type` in the toolbar.**\n",
    "\n",
    "## Submission instructions\n",
    "Once you're done, send this `.ipynb` notebook (or a link to it hosted on Google Drive/GitHub with appropriate permissions) to talent@novoic.com, ensuring that outputs from cells (text, plots etc) are preserved.\n",
    "\n",
    "If you haven't applied already, make sure you submit an application first through our [job board](https://novoic.com/careers/)."
   ]
  },
  {
   "cell_type": "markdown",
   "metadata": {
    "colab_type": "text",
    "id": "VXJdZxNrK008"
   },
   "source": [
    "## Your submission\n",
    "The below sets up TensorFlow as an example but feel free to use any framework you like."
   ]
  },
  {
   "cell_type": "code",
   "execution_count": 0,
   "metadata": {
    "colab": {},
    "colab_type": "code",
    "id": "t7A3vYU3LRz_"
   },
   "outputs": [],
   "source": [
    "# The default TensorFlow version on Colab is 1.x. Uncomment the below to use TensorFlow 2.x instead.\n",
    "# %tensorflow_version 2.x"
   ]
  },
  {
   "cell_type": "code",
   "execution_count": 0,
   "metadata": {
    "colab": {},
    "colab_type": "code",
    "id": "d_-0bsdzK6sy"
   },
   "outputs": [],
   "source": [
    "import tensorflow as tf\n",
    "tf.__version__"
   ]
  },
  {
   "cell_type": "markdown",
   "metadata": {
    "colab_type": "text",
    "id": "Y8PoDC7xLkU4"
   },
   "source": [
    "Take the wheel!"
   ]
  }
 ],
 "metadata": {
  "accelerator": "GPU",
  "colab": {
   "authorship_tag": "ABX9TyMZmg/kc+znADPKS0OPHGkL",
   "collapsed_sections": [],
   "include_colab_link": true,
   "mount_file_id": "https://github.com/novoic/ml-challenge/blob/master/kernel.ipynb",
   "name": "Copy of Copy of Novoic ML challenge",
   "provenance": [],
   "toc_visible": true
  },
  "kernelspec": {
   "display_name": "Python 3",
   "language": "python",
   "name": "python3"
  },
  "language_info": {
   "codemirror_mode": {
    "name": "ipython",
    "version": 3
   },
   "file_extension": ".py",
   "mimetype": "text/x-python",
   "name": "python",
   "nbconvert_exporter": "python",
   "pygments_lexer": "ipython3",
   "version": "3.6.9"
  }
 },
 "nbformat": 4,
 "nbformat_minor": 1
}
